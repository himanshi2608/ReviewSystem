{
  "cells": [
    {
      "cell_type": "code",
      "execution_count": null,
      "metadata": {
        "colab": {
          "base_uri": "https://localhost:8080/"
        },
        "id": "h441kUIv0Uv2",
        "outputId": "15fda535-6aef-450a-c1a8-127201ed04bf"
      },
      "outputs": [
        {
          "name": "stdout",
          "output_type": "stream",
          "text": [
            "Mounted at /content/drive\n"
          ]
        }
      ],
      "source": [
        "from google.colab import drive\n",
        "drive.mount('/content/drive')"
      ]
    },
    {
      "cell_type": "code",
      "execution_count": null,
      "metadata": {
        "colab": {
          "base_uri": "https://localhost:8080/",
          "height": 399
        },
        "id": "J43dDPLp_Bn4",
        "outputId": "ac5914be-4d8b-4cc8-e2de-e86fbb11e278"
      },
      "outputs": [
        {
          "data": {
            "text/html": [
              "<div>\n",
              "<style scoped>\n",
              "    .dataframe tbody tr th:only-of-type {\n",
              "        vertical-align: middle;\n",
              "    }\n",
              "\n",
              "    .dataframe tbody tr th {\n",
              "        vertical-align: top;\n",
              "    }\n",
              "\n",
              "    .dataframe thead th {\n",
              "        text-align: right;\n",
              "    }\n",
              "</style>\n",
              "<table border=\"1\" class=\"dataframe\">\n",
              "  <thead>\n",
              "    <tr style=\"text-align: right;\">\n",
              "      <th></th>\n",
              "      <th>label</th>\n",
              "      <th>review</th>\n",
              "    </tr>\n",
              "  </thead>\n",
              "  <tbody>\n",
              "    <tr>\n",
              "      <th>0</th>\n",
              "      <td>pos</td>\n",
              "      <td>Stuning even for the non-gamer: This sound tra...</td>\n",
              "    </tr>\n",
              "    <tr>\n",
              "      <th>1</th>\n",
              "      <td>pos</td>\n",
              "      <td>The best soundtrack ever to anything.: I'm rea...</td>\n",
              "    </tr>\n",
              "    <tr>\n",
              "      <th>2</th>\n",
              "      <td>pos</td>\n",
              "      <td>Amazing!: This soundtrack is my favorite music...</td>\n",
              "    </tr>\n",
              "    <tr>\n",
              "      <th>3</th>\n",
              "      <td>pos</td>\n",
              "      <td>Excellent Soundtrack: I truly like this soundt...</td>\n",
              "    </tr>\n",
              "    <tr>\n",
              "      <th>4</th>\n",
              "      <td>pos</td>\n",
              "      <td>Remember, Pull Your Jaw Off The Floor After He...</td>\n",
              "    </tr>\n",
              "    <tr>\n",
              "      <th>...</th>\n",
              "      <td>...</td>\n",
              "      <td>...</td>\n",
              "    </tr>\n",
              "    <tr>\n",
              "      <th>9994</th>\n",
              "      <td>neg</td>\n",
              "      <td>Sorry Jim: As a former realtor, Mr. Cole owes ...</td>\n",
              "    </tr>\n",
              "    <tr>\n",
              "      <th>9995</th>\n",
              "      <td>pos</td>\n",
              "      <td>A revelation of life in small town America in ...</td>\n",
              "    </tr>\n",
              "    <tr>\n",
              "      <th>9996</th>\n",
              "      <td>pos</td>\n",
              "      <td>Great biography of a very interesting journali...</td>\n",
              "    </tr>\n",
              "    <tr>\n",
              "      <th>9997</th>\n",
              "      <td>neg</td>\n",
              "      <td>Interesting Subject; Poor Presentation: You'd ...</td>\n",
              "    </tr>\n",
              "    <tr>\n",
              "      <th>9998</th>\n",
              "      <td>neg</td>\n",
              "      <td>Don't buy: The box looked used and it is obvio...</td>\n",
              "    </tr>\n",
              "  </tbody>\n",
              "</table>\n",
              "<p>9999 rows × 2 columns</p>\n",
              "</div>"
            ],
            "text/plain": [
              "     label                                             review\n",
              "0      pos  Stuning even for the non-gamer: This sound tra...\n",
              "1      pos  The best soundtrack ever to anything.: I'm rea...\n",
              "2      pos  Amazing!: This soundtrack is my favorite music...\n",
              "3      pos  Excellent Soundtrack: I truly like this soundt...\n",
              "4      pos  Remember, Pull Your Jaw Off The Floor After He...\n",
              "...    ...                                                ...\n",
              "9994   neg  Sorry Jim: As a former realtor, Mr. Cole owes ...\n",
              "9995   pos  A revelation of life in small town America in ...\n",
              "9996   pos  Great biography of a very interesting journali...\n",
              "9997   neg  Interesting Subject; Poor Presentation: You'd ...\n",
              "9998   neg  Don't buy: The box looked used and it is obvio...\n",
              "\n",
              "[9999 rows x 2 columns]"
            ]
          },
          "execution_count": 121,
          "metadata": {
            "tags": []
          },
          "output_type": "execute_result"
        }
      ],
      "source": [
        "import numpy as np\n",
        "import pandas as pd\n",
        "import matplotlib.pyplot as plt\n",
        "dataset = pd.read_csv('/content/drive/My Drive/dataset/amazonreviews.tsv', sep='\\t')\n",
        "dataset.head(9999)"
      ]
    },
    {
      "cell_type": "code",
      "execution_count": null,
      "metadata": {
        "colab": {
          "base_uri": "https://localhost:8080/"
        },
        "id": "jmSAjYDSPv1J",
        "outputId": "6633fea3-ce13-4816-e32f-41bf08ab3602"
      },
      "outputs": [
        {
          "name": "stdout",
          "output_type": "stream",
          "text": [
            "[nltk_data] Downloading package stopwords to /root/nltk_data...\n",
            "[nltk_data]   Package stopwords is already up-to-date!\n",
            "[nltk_data] Downloading package wordnet to /root/nltk_data...\n",
            "[nltk_data]   Package wordnet is already up-to-date!\n"
          ]
        },
        {
          "data": {
            "text/plain": [
              "True"
            ]
          },
          "execution_count": 10,
          "metadata": {
            "tags": []
          },
          "output_type": "execute_result"
        }
      ],
      "source": [
        "import nltk\n",
        "nltk.download('stopwords')\n",
        "nltk.download('wordnet')"
      ]
    },
    {
      "cell_type": "code",
      "execution_count": null,
      "metadata": {
        "id": "Z1TPNCtFAFRP"
      },
      "outputs": [],
      "source": [
        "from sklearn.feature_extraction.text import TfidfVectorizer\n",
        "from nltk.corpus import stopwords\n",
        "from nltk.stem import WordNetLemmatizer\n",
        "import re\n",
        "wl = WordNetLemmatizer()\n",
        "processed_data = []\n",
        "for i in range(0, len(dataset)):\n",
        "    reviews = re.sub('[^a-zA-Z0-9]', ' ', dataset['review'][i])\n",
        "    reviews = reviews.lower()\n",
        "    reviews = reviews.split()\n",
        "    \n",
        "    reviews = [wl.lemmatize(word) for word in reviews if not word in stopwords.words('english')]\n",
        "    reviews = ' '.join(reviews)\n",
        "    processed_data.append(reviews)"
      ]
    },
    {
      "cell_type": "code",
      "execution_count": null,
      "metadata": {
        "colab": {
          "base_uri": "https://localhost:8080/",
          "height": 71
        },
        "id": "sDR_rgX6Axc1",
        "outputId": "823f4f0d-61c3-4a31-8818-84257e76747f"
      },
      "outputs": [
        {
          "data": {
            "application/vnd.google.colaboratory.intrinsic+json": {
              "type": "string"
            },
            "text/plain": [
              "\"The best soundtrack ever to anything.: I'm reading a lot of reviews saying that this is the best 'game soundtrack' and I figured that I'd write a review to disagree a bit. This in my opinino is Yasunori Mitsuda's ultimate masterpiece. The music is timeless and I'm been listening to it for years now and its beauty simply refuses to fade.The price tag on this is pretty staggering I must say, but if you are going to buy any cd for this much money, this is the only one that I feel would be worth every penny.\""
            ]
          },
          "execution_count": 104,
          "metadata": {
            "tags": []
          },
          "output_type": "execute_result"
        }
      ],
      "source": [
        "dataset['review'][1]"
      ]
    },
    {
      "cell_type": "code",
      "execution_count": null,
      "metadata": {
        "colab": {
          "base_uri": "https://localhost:8080/",
          "height": 53
        },
        "id": "PnBJBYqyB2yx",
        "outputId": "ea24652e-5a50-4d9b-c759-27ad5f4ec5dc"
      },
      "outputs": [
        {
          "data": {
            "application/vnd.google.colaboratory.intrinsic+json": {
              "type": "string"
            },
            "text/plain": [
              "'best soundtrack ever anything reading lot review saying best game soundtrack figured write review disagree bit opinino yasunori mitsuda ultimate masterpiece music timeless listening year beauty simply refuse fade price tag pretty staggering must say going buy cd much money one feel would worth every penny'"
            ]
          },
          "execution_count": 12,
          "metadata": {
            "tags": []
          },
          "output_type": "execute_result"
        }
      ],
      "source": [
        "processed_data[1]"
      ]
    },
    {
      "cell_type": "code",
      "execution_count": null,
      "metadata": {
        "id": "tWBvEuRXB6ek"
      },
      "outputs": [],
      "source": [
        "from sklearn.feature_extraction.text import TfidfVectorizer\n",
        "tfidf_v=TfidfVectorizer(ngram_range=(1,3)) # ngram fetaures between range 1-3 are added\n",
        "X_new=tfidf_v.fit_transform(processed_data).toarray()"
      ]
    },
    {
      "cell_type": "code",
      "execution_count": null,
      "metadata": {
        "colab": {
          "base_uri": "https://localhost:8080/"
        },
        "id": "1AGZmDWxB_xd",
        "outputId": "0d8df860-ea56-43c6-9c81-11da8f90f76a"
      },
      "outputs": [
        {
          "data": {
            "text/plain": [
              "(10000, 5000)"
            ]
          },
          "execution_count": 40,
          "metadata": {
            "tags": []
          },
          "output_type": "execute_result"
        }
      ],
      "source": [
        "X_new.shape"
      ]
    },
    {
      "cell_type": "code",
      "execution_count": null,
      "metadata": {
        "id": "4hq-9ld_CFH7"
      },
      "outputs": [],
      "source": [
        "from sklearn import preprocessing\n",
        "label_encoder = preprocessing.LabelEncoder()\n",
        "dataset['label']= label_encoder.fit_transform(dataset['label'])\n",
        "Y=dataset['label']"
      ]
    },
    {
      "cell_type": "code",
      "execution_count": null,
      "metadata": {
        "colab": {
          "base_uri": "https://localhost:8080/"
        },
        "id": "ksfMvLihvXDH",
        "outputId": "ae8e9231-37c8-44c6-9b2c-f1505dd3dba2"
      },
      "outputs": [
        {
          "data": {
            "text/plain": [
              "0       1\n",
              "1       1\n",
              "2       1\n",
              "3       1\n",
              "4       1\n",
              "       ..\n",
              "9995    1\n",
              "9996    1\n",
              "9997    0\n",
              "9998    0\n",
              "9999    1\n",
              "Name: label, Length: 10000, dtype: int64"
            ]
          },
          "execution_count": 107,
          "metadata": {
            "tags": []
          },
          "output_type": "execute_result"
        }
      ],
      "source": [
        "Y"
      ]
    },
    {
      "cell_type": "code",
      "execution_count": null,
      "metadata": {
        "id": "6I_38odpCSJH"
      },
      "outputs": [],
      "source": [
        "from sklearn.model_selection import train_test_split\n",
        "X_train, X_test, y_train, y_test = train_test_split(X_new, Y, test_size=0.25, random_state=42)"
      ]
    },
    {
      "cell_type": "code",
      "execution_count": null,
      "metadata": {
        "id": "rVP5bGk1DZmm"
      },
      "outputs": [],
      "source": [
        "from sklearn.linear_model import LogisticRegression\n",
        "from sklearn.neighbors import KNeighborsClassifier\n",
        "from sklearn.naive_bayes import GaussianNB\n",
        "from sklearn.svm import SVC\n",
        "from sklearn.ensemble import RandomForestClassifier\n",
        "from sklearn.metrics import accuracy_score, confusion_matrix\n",
        "from sklearn.model_selection import cross_val_score\n",
        "from sklearn.metrics import classification_report"
      ]
    },
    {
      "cell_type": "code",
      "execution_count": null,
      "metadata": {
        "colab": {
          "base_uri": "https://localhost:8080/"
        },
        "id": "x5xQGPfHDhWi",
        "outputId": "1919c0bb-ddf7-491f-9c37-12c4417d01b9"
      },
      "outputs": [
        {
          "name": "stdout",
          "output_type": "stream",
          "text": [
            "*****Logistic Regression*****\n",
            "Confusion Matrix: \n",
            "[[1093  192]\n",
            " [ 183 1032]]\n",
            "              precision    recall  f1-score   support\n",
            "\n",
            "           0       0.86      0.85      0.85      1285\n",
            "           1       0.84      0.85      0.85      1215\n",
            "\n",
            "    accuracy                           0.85      2500\n",
            "   macro avg       0.85      0.85      0.85      2500\n",
            "weighted avg       0.85      0.85      0.85      2500\n",
            "\n",
            "Accuracy Score: 0.85\n",
            "Mean Accuracy:  84.97333333333333\n",
            "Standard Deviation:  0.7310266752998803\n"
          ]
        }
      ],
      "source": [
        "model = LogisticRegression(random_state=4)\n",
        "model.fit(X_train, y_train)\n",
        "y_pred = model.predict(X_test)\n",
        "cm = confusion_matrix(y_test, y_pred)\n",
        "class_report = classification_report(y_test, y_pred)\n",
        "accuracies = cross_val_score(estimator = model, X = X_train, y = y_train)\n",
        "print(\"*****Logistic Regression*****\")\n",
        "print(\"Confusion Matrix: \")\n",
        "print(cm)\n",
        "print(class_report)\n",
        "print('Accuracy Score:', accuracy_score(y_test, y_pred))\n",
        "print(\"Mean Accuracy: \", accuracies.mean()*100)\n",
        "print(\"Standard Deviation: \", accuracies.std()*100)"
      ]
    },
    {
      "cell_type": "code",
      "execution_count": null,
      "metadata": {
        "colab": {
          "base_uri": "https://localhost:8080/"
        },
        "id": "rs17nghmgclQ",
        "outputId": "836f5233-2863-4df0-eb57-23932c85c948"
      },
      "outputs": [
        {
          "name": "stdout",
          "output_type": "stream",
          "text": [
            "Review is negative\n"
          ]
        }
      ],
      "source": [
        "x=[\"this product is okay\"]\n",
        "h=tfidf_v.transform(x)\n",
        "y=model.predict(h)\n",
        "def find(y):\n",
        "    if y == 1:\n",
        "        print (\"Review is positive\")\n",
        "    else:\n",
        "        print (\"Review is negative\")\n",
        "\n",
        "find(y)"
      ]
    },
    {
      "cell_type": "code",
      "execution_count": null,
      "metadata": {
        "colab": {
          "base_uri": "https://localhost:8080/"
        },
        "id": "NA5swkMQQjTr",
        "outputId": "672ae2d2-17b0-44bb-97e4-716042a256a8"
      },
      "outputs": [
        {
          "name": "stdout",
          "output_type": "stream",
          "text": [
            "accuracy:   0.835\n",
            "Confusin Matrix: \n",
            "[[1076  209]\n",
            " [ 204 1011]]\n",
            "              precision    recall  f1-score   support\n",
            "\n",
            "           0       0.84      0.84      0.84      1285\n",
            "           1       0.83      0.83      0.83      1215\n",
            "\n",
            "    accuracy                           0.83      2500\n",
            "   macro avg       0.83      0.83      0.83      2500\n",
            "weighted avg       0.83      0.83      0.83      2500\n",
            "\n"
          ]
        }
      ],
      "source": [
        "model = RandomForestClassifier(n_estimators=100, criterion = 'entropy')\n",
        "model.fit(X_train,y_train)\n",
        "from sklearn import metrics\n",
        "from sklearn.metrics import classification_report\n",
        "y_pred = model.predict(X_test)\n",
        "score = metrics.accuracy_score(y_test, y_pred)\n",
        "print(\"accuracy:   %0.3f\" % score)\n",
        "cm = metrics.confusion_matrix(y_test, y_pred)\n",
        "print(\"Confusin Matrix: \")\n",
        "print(cm)\n",
        "print(classification_report(y_test, y_pred))"
      ]
    },
    {
      "cell_type": "code",
      "execution_count": null,
      "metadata": {
        "colab": {
          "base_uri": "https://localhost:8080/"
        },
        "id": "JBlN-bqRDxQl",
        "outputId": "7cf452d9-1a49-469d-f4c3-80e1db2f8b07"
      },
      "outputs": [
        {
          "name": "stdout",
          "output_type": "stream",
          "text": [
            "*****Naive Bayes*****\n",
            "Confusion Matrix: \n",
            "[[957 328]\n",
            " [241 974]]\n",
            "              precision    recall  f1-score   support\n",
            "\n",
            "           0       0.80      0.74      0.77      1285\n",
            "           1       0.75      0.80      0.77      1215\n",
            "\n",
            "    accuracy                           0.77      2500\n",
            "   macro avg       0.77      0.77      0.77      2500\n",
            "weighted avg       0.77      0.77      0.77      2500\n",
            "\n",
            "Accuracy Score: 0.7724\n",
            "Mean Accuracy:  76.08\n",
            "Standard Deviation:  1.3665203173673555\n"
          ]
        }
      ],
      "source": [
        "model = GaussianNB()\n",
        "model.fit(X_train, y_train)\n",
        "y_pred = model.predict(X_test)\n",
        "cm = confusion_matrix(y_test, y_pred)\n",
        "class_report = classification_report(y_test, y_pred)\n",
        "accuracies = cross_val_score(estimator = model, X = X_train, y = y_train)\n",
        "print(\"*****Naive Bayes*****\")\n",
        "print(\"Confusion Matrix: \")\n",
        "print(cm)\n",
        "print(class_report)\n",
        "print('Accuracy Score:', accuracy_score(y_test, y_pred))\n",
        "print(\"Mean Accuracy: \", accuracies.mean()*100)\n",
        "print(\"Standard Deviation: \", accuracies.std()*100)"
      ]
    }
  ],
  "metadata": {
    "accelerator": "GPU",
    "colab": {
      "collapsed_sections": [],
      "name": "SentimentAnalysis.ipynb",
      "provenance": []
    },
    "kernelspec": {
      "display_name": "Python 3",
      "name": "python3"
    },
    "language_info": {
      "name": "python"
    }
  },
  "nbformat": 4,
  "nbformat_minor": 0
}
